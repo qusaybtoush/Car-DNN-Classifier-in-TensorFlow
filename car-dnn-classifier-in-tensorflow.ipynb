{
 "cells": [
  {
   "cell_type": "markdown",
   "id": "73eb7829",
   "metadata": {
    "papermill": {
     "duration": 0.023462,
     "end_time": "2022-03-12T20:14:53.728468",
     "exception": false,
     "start_time": "2022-03-12T20:14:53.705006",
     "status": "completed"
    },
    "tags": []
   },
   "source": [
    "# Introduction 😃😃\n",
    "\n",
    "## The Car 🚗🚗 😃\n",
    "\n",
    "- This Car data for work - DNN Classifier in TensorFlow\n",
    "\n",
    "### About the Columns\n",
    "\n",
    "- buying = Is there an interest in buying?\n",
    "- maint = Car needs maintenance\n",
    "- doors = The number of car doors\n",
    "- persons = The number of car passenger\n",
    "- lug_boot= The size luggage\n",
    "- safety = Safety rate in the car\n",
    "- rating =Car performance evaluation\n",
    "\n",
    "\n",
    "\n",
    "# Mission :\n",
    "\n",
    "- Make  DNN Classifier in TensorFlow about rating  column \n",
    "- [acc  = acceptable / good  / unacc = unacceptable / vgood= Very good ]\n",
    "\n",
    "\n",
    "\n",
    "# * Analyze and Explore DataSet 😃❤️🤝"
   ]
  },
  {
   "cell_type": "code",
   "execution_count": 1,
   "id": "69971c28",
   "metadata": {
    "execution": {
     "iopub.execute_input": "2022-03-12T20:14:53.783596Z",
     "iopub.status.busy": "2022-03-12T20:14:53.782897Z",
     "iopub.status.idle": "2022-03-12T20:15:00.541985Z",
     "shell.execute_reply": "2022-03-12T20:15:00.541026Z",
     "shell.execute_reply.started": "2022-03-12T18:41:26.787432Z"
    },
    "papermill": {
     "duration": 6.791133,
     "end_time": "2022-03-12T20:15:00.542192",
     "exception": false,
     "start_time": "2022-03-12T20:14:53.751059",
     "status": "completed"
    },
    "tags": []
   },
   "outputs": [],
   "source": [
    "#Importing the basic librarires \n",
    "\n",
    "import numpy as np\n",
    "import pandas as pd\n",
    "import seaborn as sns\n",
    "import matplotlib.pyplot as plt\n",
    "plt.style.use(\"ggplot\")  #using style ggplot\n",
    "\n",
    "%matplotlib inline\n",
    "\n",
    "import tensorflow as tf\n",
    "\n",
    "import tempfile\n",
    "from sklearn.model_selection import train_test_split"
   ]
  },
  {
   "cell_type": "code",
   "execution_count": null,
   "id": "76ade474",
   "metadata": {
    "papermill": {
     "duration": 0.022185,
     "end_time": "2022-03-12T20:15:00.587630",
     "exception": false,
     "start_time": "2022-03-12T20:15:00.565445",
     "status": "completed"
    },
    "tags": []
   },
   "outputs": [],
   "source": []
  },
  {
   "cell_type": "code",
   "execution_count": 2,
   "id": "ff62e8ff",
   "metadata": {
    "execution": {
     "iopub.execute_input": "2022-03-12T20:15:00.638721Z",
     "iopub.status.busy": "2022-03-12T20:15:00.637847Z",
     "iopub.status.idle": "2022-03-12T20:15:00.674180Z",
     "shell.execute_reply": "2022-03-12T20:15:00.674736Z",
     "shell.execute_reply.started": "2022-03-12T18:41:33.221361Z"
    },
    "papermill": {
     "duration": 0.064875,
     "end_time": "2022-03-12T20:15:00.674910",
     "exception": false,
     "start_time": "2022-03-12T20:15:00.610035",
     "status": "completed"
    },
    "tags": []
   },
   "outputs": [
    {
     "data": {
      "text/html": [
       "<div>\n",
       "<style scoped>\n",
       "    .dataframe tbody tr th:only-of-type {\n",
       "        vertical-align: middle;\n",
       "    }\n",
       "\n",
       "    .dataframe tbody tr th {\n",
       "        vertical-align: top;\n",
       "    }\n",
       "\n",
       "    .dataframe thead th {\n",
       "        text-align: right;\n",
       "    }\n",
       "</style>\n",
       "<table border=\"1\" class=\"dataframe\">\n",
       "  <thead>\n",
       "    <tr style=\"text-align: right;\">\n",
       "      <th></th>\n",
       "      <th>buying</th>\n",
       "      <th>maint</th>\n",
       "      <th>doors</th>\n",
       "      <th>persons</th>\n",
       "      <th>lug_boot</th>\n",
       "      <th>safety</th>\n",
       "      <th>rating</th>\n",
       "    </tr>\n",
       "  </thead>\n",
       "  <tbody>\n",
       "    <tr>\n",
       "      <th>0</th>\n",
       "      <td>vhigh</td>\n",
       "      <td>vhigh</td>\n",
       "      <td>2</td>\n",
       "      <td>2</td>\n",
       "      <td>small</td>\n",
       "      <td>low</td>\n",
       "      <td>unacc</td>\n",
       "    </tr>\n",
       "    <tr>\n",
       "      <th>1</th>\n",
       "      <td>vhigh</td>\n",
       "      <td>vhigh</td>\n",
       "      <td>2</td>\n",
       "      <td>2</td>\n",
       "      <td>small</td>\n",
       "      <td>med</td>\n",
       "      <td>unacc</td>\n",
       "    </tr>\n",
       "    <tr>\n",
       "      <th>2</th>\n",
       "      <td>vhigh</td>\n",
       "      <td>vhigh</td>\n",
       "      <td>2</td>\n",
       "      <td>2</td>\n",
       "      <td>small</td>\n",
       "      <td>high</td>\n",
       "      <td>unacc</td>\n",
       "    </tr>\n",
       "    <tr>\n",
       "      <th>3</th>\n",
       "      <td>vhigh</td>\n",
       "      <td>vhigh</td>\n",
       "      <td>2</td>\n",
       "      <td>2</td>\n",
       "      <td>med</td>\n",
       "      <td>low</td>\n",
       "      <td>unacc</td>\n",
       "    </tr>\n",
       "    <tr>\n",
       "      <th>4</th>\n",
       "      <td>vhigh</td>\n",
       "      <td>vhigh</td>\n",
       "      <td>2</td>\n",
       "      <td>2</td>\n",
       "      <td>med</td>\n",
       "      <td>med</td>\n",
       "      <td>unacc</td>\n",
       "    </tr>\n",
       "  </tbody>\n",
       "</table>\n",
       "</div>"
      ],
      "text/plain": [
       "  buying  maint doors persons lug_boot safety rating\n",
       "0  vhigh  vhigh     2       2    small    low  unacc\n",
       "1  vhigh  vhigh     2       2    small    med  unacc\n",
       "2  vhigh  vhigh     2       2    small   high  unacc\n",
       "3  vhigh  vhigh     2       2      med    low  unacc\n",
       "4  vhigh  vhigh     2       2      med    med  unacc"
      ]
     },
     "execution_count": 2,
     "metadata": {},
     "output_type": "execute_result"
    }
   ],
   "source": [
    "#Importing the dataset\n",
    "df =pd.read_csv(\"../input/the-cars/car1.csv\")\n",
    "\n",
    "\n",
    "# look the data set\n",
    "df.head()"
   ]
  },
  {
   "cell_type": "code",
   "execution_count": 3,
   "id": "955ce591",
   "metadata": {
    "execution": {
     "iopub.execute_input": "2022-03-12T20:15:00.727607Z",
     "iopub.status.busy": "2022-03-12T20:15:00.726612Z",
     "iopub.status.idle": "2022-03-12T20:15:00.730046Z",
     "shell.execute_reply": "2022-03-12T20:15:00.730543Z",
     "shell.execute_reply.started": "2022-03-12T18:41:33.257627Z"
    },
    "papermill": {
     "duration": 0.032498,
     "end_time": "2022-03-12T20:15:00.730712",
     "exception": false,
     "start_time": "2022-03-12T20:15:00.698214",
     "status": "completed"
    },
    "tags": []
   },
   "outputs": [
    {
     "data": {
      "text/plain": [
       "(1728, 7)"
      ]
     },
     "execution_count": 3,
     "metadata": {},
     "output_type": "execute_result"
    }
   ],
   "source": [
    "# looking the shape DataSet\n",
    "df.shape"
   ]
  },
  {
   "cell_type": "code",
   "execution_count": 4,
   "id": "ea23368e",
   "metadata": {
    "execution": {
     "iopub.execute_input": "2022-03-12T20:15:00.802713Z",
     "iopub.status.busy": "2022-03-12T20:15:00.802030Z",
     "iopub.status.idle": "2022-03-12T20:15:00.806414Z",
     "shell.execute_reply": "2022-03-12T20:15:00.806971Z",
     "shell.execute_reply.started": "2022-03-12T18:41:33.263661Z"
    },
    "papermill": {
     "duration": 0.053141,
     "end_time": "2022-03-12T20:15:00.807149",
     "exception": false,
     "start_time": "2022-03-12T20:15:00.754008",
     "status": "completed"
    },
    "tags": []
   },
   "outputs": [
    {
     "name": "stdout",
     "output_type": "stream",
     "text": [
      "<class 'pandas.core.frame.DataFrame'>\n",
      "RangeIndex: 1728 entries, 0 to 1727\n",
      "Data columns (total 7 columns):\n",
      " #   Column    Non-Null Count  Dtype \n",
      "---  ------    --------------  ----- \n",
      " 0   buying    1728 non-null   object\n",
      " 1   maint     1728 non-null   object\n",
      " 2   doors     1728 non-null   object\n",
      " 3   persons   1728 non-null   object\n",
      " 4   lug_boot  1728 non-null   object\n",
      " 5   safety    1728 non-null   object\n",
      " 6   rating    1728 non-null   object\n",
      "dtypes: object(7)\n",
      "memory usage: 94.6+ KB\n"
     ]
    }
   ],
   "source": [
    "#Checking the dtypes of all the columns\n",
    "\n",
    "df.info()"
   ]
  },
  {
   "cell_type": "code",
   "execution_count": 5,
   "id": "ed3554dd",
   "metadata": {
    "execution": {
     "iopub.execute_input": "2022-03-12T20:15:00.859068Z",
     "iopub.status.busy": "2022-03-12T20:15:00.858284Z",
     "iopub.status.idle": "2022-03-12T20:15:00.868235Z",
     "shell.execute_reply": "2022-03-12T20:15:00.867655Z",
     "shell.execute_reply.started": "2022-03-12T18:41:33.295868Z"
    },
    "papermill": {
     "duration": 0.037368,
     "end_time": "2022-03-12T20:15:00.868469",
     "exception": false,
     "start_time": "2022-03-12T20:15:00.831101",
     "status": "completed"
    },
    "tags": []
   },
   "outputs": [
    {
     "data": {
      "text/plain": [
       "buying      0\n",
       "maint       0\n",
       "doors       0\n",
       "persons     0\n",
       "lug_boot    0\n",
       "safety      0\n",
       "rating      0\n",
       "dtype: int64"
      ]
     },
     "execution_count": 5,
     "metadata": {},
     "output_type": "execute_result"
    }
   ],
   "source": [
    "#checking null value \n",
    "df.isna().sum()"
   ]
  },
  {
   "cell_type": "markdown",
   "id": "10b59fe6",
   "metadata": {
    "papermill": {
     "duration": 0.023943,
     "end_time": "2022-03-12T20:15:00.917851",
     "exception": false,
     "start_time": "2022-03-12T20:15:00.893908",
     "status": "completed"
    },
    "tags": []
   },
   "source": [
    "- No missing value"
   ]
  },
  {
   "cell_type": "markdown",
   "id": "d7073da6",
   "metadata": {
    "papermill": {
     "duration": 0.023514,
     "end_time": "2022-03-12T20:15:00.967566",
     "exception": false,
     "start_time": "2022-03-12T20:15:00.944052",
     "status": "completed"
    },
    "tags": []
   },
   "source": [
    "# Some Visualizations 😃❤️🤝"
   ]
  },
  {
   "cell_type": "code",
   "execution_count": 6,
   "id": "ab0a343d",
   "metadata": {
    "execution": {
     "iopub.execute_input": "2022-03-12T20:15:01.022752Z",
     "iopub.status.busy": "2022-03-12T20:15:01.021958Z",
     "iopub.status.idle": "2022-03-12T20:15:01.270185Z",
     "shell.execute_reply": "2022-03-12T20:15:01.269586Z",
     "shell.execute_reply.started": "2022-03-12T18:41:33.306652Z"
    },
    "papermill": {
     "duration": 0.278501,
     "end_time": "2022-03-12T20:15:01.270336",
     "exception": false,
     "start_time": "2022-03-12T20:15:00.991835",
     "status": "completed"
    },
    "tags": []
   },
   "outputs": [
    {
     "name": "stderr",
     "output_type": "stream",
     "text": [
      "/opt/conda/lib/python3.7/site-packages/seaborn/_decorators.py:43: FutureWarning: Pass the following variable as a keyword arg: x. From version 0.12, the only valid positional argument will be `data`, and passing other arguments without an explicit keyword will result in an error or misinterpretation.\n",
      "  FutureWarning\n"
     ]
    },
    {
     "data": {
      "text/plain": [
       "<AxesSubplot:xlabel='buying', ylabel='count'>"
      ]
     },
     "execution_count": 6,
     "metadata": {},
     "output_type": "execute_result"
    },
    {
     "data": {
      "image/png": "[encoded data removed]",
      "text/plain": [
       "<Figure size 1080x504 with 1 Axes>"
      ]
     },
     "metadata": {
      "needs_background": "light"
     },
     "output_type": "display_data"
    }
   ],
   "source": [
    "# show the relation buying\n",
    "plt.figure(figsize=(15,7))\n",
    "sns.countplot(df[\"buying\"])"
   ]
  },
  {
   "cell_type": "code",
   "execution_count": 7,
   "id": "f232522f",
   "metadata": {
    "execution": {
     "iopub.execute_input": "2022-03-12T20:15:01.333307Z",
     "iopub.status.busy": "2022-03-12T20:15:01.332247Z",
     "iopub.status.idle": "2022-03-12T20:15:01.533006Z",
     "shell.execute_reply": "2022-03-12T20:15:01.532357Z",
     "shell.execute_reply.started": "2022-03-12T18:41:33.512589Z"
    },
    "papermill": {
     "duration": 0.236435,
     "end_time": "2022-03-12T20:15:01.533154",
     "exception": false,
     "start_time": "2022-03-12T20:15:01.296719",
     "status": "completed"
    },
    "tags": []
   },
   "outputs": [
    {
     "name": "stderr",
     "output_type": "stream",
     "text": [
      "/opt/conda/lib/python3.7/site-packages/seaborn/_decorators.py:43: FutureWarning: Pass the following variable as a keyword arg: x. From version 0.12, the only valid positional argument will be `data`, and passing other arguments without an explicit keyword will result in an error or misinterpretation.\n",
      "  FutureWarning\n"
     ]
    },
    {
     "data": {
      "text/plain": [
       "<AxesSubplot:xlabel='maint', ylabel='count'>"
      ]
     },
     "execution_count": 7,
     "metadata": {},
     "output_type": "execute_result"
    },
    {
     "data": {
      "image/png": "[encoded data removed]",
      "text/plain": [
       "<Figure size 1080x504 with 1 Axes>"
      ]
     },
     "metadata": {
      "needs_background": "light"
     },
     "output_type": "display_data"
    }
   ],
   "source": [
    "# show the relation maint\n",
    "plt.figure(figsize=(15,7))\n",
    "sns.countplot(df[\"maint\"])"
   ]
  },
  {
   "cell_type": "code",
   "execution_count": 8,
   "id": "eb526ad5",
   "metadata": {
    "execution": {
     "iopub.execute_input": "2022-03-12T20:15:01.592353Z",
     "iopub.status.busy": "2022-03-12T20:15:01.591292Z",
     "iopub.status.idle": "2022-03-12T20:15:01.799198Z",
     "shell.execute_reply": "2022-03-12T20:15:01.798632Z",
     "shell.execute_reply.started": "2022-03-12T18:41:33.705530Z"
    },
    "papermill": {
     "duration": 0.238749,
     "end_time": "2022-03-12T20:15:01.799361",
     "exception": false,
     "start_time": "2022-03-12T20:15:01.560612",
     "status": "completed"
    },
    "tags": []
   },
   "outputs": [
    {
     "name": "stderr",
     "output_type": "stream",
     "text": [
      "/opt/conda/lib/python3.7/site-packages/seaborn/_decorators.py:43: FutureWarning: Pass the following variable as a keyword arg: x. From version 0.12, the only valid positional argument will be `data`, and passing other arguments without an explicit keyword will result in an error or misinterpretation.\n",
      "  FutureWarning\n"
     ]
    },
    {
     "data": {
      "text/plain": [
       "<AxesSubplot:xlabel='doors', ylabel='count'>"
      ]
     },
     "execution_count": 8,
     "metadata": {},
     "output_type": "execute_result"
    },
    {
     "data": {
      "image/png": "[encoded data removed]",
      "text/plain": [
       "<Figure size 1080x504 with 1 Axes>"
      ]
     },
     "metadata": {
      "needs_background": "light"
     },
     "output_type": "display_data"
    }
   ],
   "source": [
    "# show the relation doors\n",
    "plt.figure(figsize=(15,7))\n",
    "sns.countplot(df[\"doors\"])"
   ]
  },
  {
   "cell_type": "code",
   "execution_count": 9,
   "id": "9895a934",
   "metadata": {
    "execution": {
     "iopub.execute_input": "2022-03-12T20:15:01.867833Z",
     "iopub.status.busy": "2022-03-12T20:15:01.866794Z",
     "iopub.status.idle": "2022-03-12T20:15:02.075354Z",
     "shell.execute_reply": "2022-03-12T20:15:02.074779Z",
     "shell.execute_reply.started": "2022-03-12T18:41:33.897515Z"
    },
    "papermill": {
     "duration": 0.246625,
     "end_time": "2022-03-12T20:15:02.075508",
     "exception": false,
     "start_time": "2022-03-12T20:15:01.828883",
     "status": "completed"
    },
    "tags": []
   },
   "outputs": [
    {
     "name": "stderr",
     "output_type": "stream",
     "text": [
      "/opt/conda/lib/python3.7/site-packages/seaborn/_decorators.py:43: FutureWarning: Pass the following variable as a keyword arg: x. From version 0.12, the only valid positional argument will be `data`, and passing other arguments without an explicit keyword will result in an error or misinterpretation.\n",
      "  FutureWarning\n"
     ]
    },
    {
     "data": {
      "text/plain": [
       "<AxesSubplot:xlabel='persons', ylabel='count'>"
      ]
     },
     "execution_count": 9,
     "metadata": {},
     "output_type": "execute_result"
    },
    {
     "data": {
      "image/png": "[encoded data removed]",
      "text/plain": [
       "<Figure size 1080x504 with 1 Axes>"
      ]
     },
     "metadata": {
      "needs_background": "light"
     },
     "output_type": "display_data"
    }
   ],
   "source": [
    "# show the relation persons size\n",
    "plt.figure(figsize=(15,7))\n",
    "sns.countplot(df[\"persons\"])"
   ]
  },
  {
   "cell_type": "code",
   "execution_count": 10,
   "id": "93c5e8c3",
   "metadata": {
    "execution": {
     "iopub.execute_input": "2022-03-12T20:15:02.146685Z",
     "iopub.status.busy": "2022-03-12T20:15:02.145853Z",
     "iopub.status.idle": "2022-03-12T20:15:02.355453Z",
     "shell.execute_reply": "2022-03-12T20:15:02.355974Z",
     "shell.execute_reply.started": "2022-03-12T18:41:34.096832Z"
    },
    "papermill": {
     "duration": 0.249606,
     "end_time": "2022-03-12T20:15:02.356152",
     "exception": false,
     "start_time": "2022-03-12T20:15:02.106546",
     "status": "completed"
    },
    "tags": []
   },
   "outputs": [
    {
     "name": "stderr",
     "output_type": "stream",
     "text": [
      "/opt/conda/lib/python3.7/site-packages/seaborn/_decorators.py:43: FutureWarning: Pass the following variable as a keyword arg: x. From version 0.12, the only valid positional argument will be `data`, and passing other arguments without an explicit keyword will result in an error or misinterpretation.\n",
      "  FutureWarning\n"
     ]
    },
    {
     "data": {
      "text/plain": [
       "<AxesSubplot:xlabel='lug_boot', ylabel='count'>"
      ]
     },
     "execution_count": 10,
     "metadata": {},
     "output_type": "execute_result"
    },
    {
     "data": {
      "image/png": "[encoded data removed]",
      "text/plain": [
       "<Figure size 1080x504 with 1 Axes>"
      ]
     },
     "metadata": {
      "needs_background": "light"
     },
     "output_type": "display_data"
    }
   ],
   "source": [
    "# show the relation luggage \n",
    "plt.figure(figsize=(15,7))\n",
    "sns.countplot(df[\"lug_boot\"])"
   ]
  },
  {
   "cell_type": "markdown",
   "id": "d11642f9",
   "metadata": {
    "papermill": {
     "duration": 0.033049,
     "end_time": "2022-03-12T20:15:02.421614",
     "exception": false,
     "start_time": "2022-03-12T20:15:02.388565",
     "status": "completed"
    },
    "tags": []
   },
   "source": [
    "## I want focusing in my notebook - Make  DNN Classifier in TensorFlow about rating  column"
   ]
  },
  {
   "cell_type": "code",
   "execution_count": 11,
   "id": "d50bdb21",
   "metadata": {
    "execution": {
     "iopub.execute_input": "2022-03-12T20:15:02.491965Z",
     "iopub.status.busy": "2022-03-12T20:15:02.490943Z",
     "iopub.status.idle": "2022-03-12T20:15:02.503344Z",
     "shell.execute_reply": "2022-03-12T20:15:02.502657Z",
     "shell.execute_reply.started": "2022-03-12T18:41:34.295503Z"
    },
    "papermill": {
     "duration": 0.048498,
     "end_time": "2022-03-12T20:15:02.503491",
     "exception": false,
     "start_time": "2022-03-12T20:15:02.454993",
     "status": "completed"
    },
    "tags": []
   },
   "outputs": [
    {
     "name": "stdout",
     "output_type": "stream",
     "text": [
      "buying data is :  ['vhigh' 'high' 'med' 'low']\n",
      "maint data is :  ['vhigh' 'high' 'med' 'low']\n",
      "doors data is :  ['2' '3' '4' '5more']\n",
      "persons data is :  ['2' '4' 'more']\n",
      "lug_boot data is :  ['small' 'med' 'big']\n",
      "safety data is :  ['low' 'med' 'high']\n",
      "rating data is :  ['unacc' 'acc' 'vgood' 'good']\n"
     ]
    }
   ],
   "source": [
    "# the unique value\n",
    "\n",
    "print('buying data is : ' , df['buying'].unique())\n",
    "print('maint data is : ' , df['maint'].unique())\n",
    "print('doors data is : ' , df['doors'].unique())\n",
    "print('persons data is : ' , df['persons'].unique())\n",
    "print('lug_boot data is : ' , df['lug_boot'].unique())\n",
    "print('safety data is : ' , df['safety'].unique())\n",
    "print('rating data is : ' , df['rating'].unique())"
   ]
  },
  {
   "cell_type": "code",
   "execution_count": 12,
   "id": "837b66fe",
   "metadata": {
    "execution": {
     "iopub.execute_input": "2022-03-12T20:15:02.572248Z",
     "iopub.status.busy": "2022-03-12T20:15:02.571551Z",
     "iopub.status.idle": "2022-03-12T20:15:02.578514Z",
     "shell.execute_reply": "2022-03-12T20:15:02.579098Z",
     "shell.execute_reply.started": "2022-03-12T18:41:34.308119Z"
    },
    "papermill": {
     "duration": 0.043461,
     "end_time": "2022-03-12T20:15:02.579301",
     "exception": false,
     "start_time": "2022-03-12T20:15:02.535840",
     "status": "completed"
    },
    "tags": []
   },
   "outputs": [],
   "source": [
    "# replace the object datatype to int \n",
    "# there another way to replace but I chose this\n",
    "\n",
    "buying_mapping = {'vhigh': 0,'high': 1,'med': 2,'low': 3}\n",
    "maint_mapping = {'vhigh': 0,'high': 1,'med': 2,'low': 3}\n",
    "doors_mapping = {'2': 0,'3': 1,'4': 2,'5more': 3}\n",
    "persons_mapping = {'2': 0,'4': 1,'more': 2}\n",
    "lug_boot_mapping = {'small': 0,'med': 1,'big': 2}\n",
    "safety_mapping = {'low': 0,'med': 1,'high': 2}\n",
    "rating_mapping = {'unacc': 0,'acc': 1,'good': 2,'vgood': 3}"
   ]
  },
  {
   "cell_type": "code",
   "execution_count": 13,
   "id": "b1a717df",
   "metadata": {
    "execution": {
     "iopub.execute_input": "2022-03-12T20:15:02.649216Z",
     "iopub.status.busy": "2022-03-12T20:15:02.648498Z",
     "iopub.status.idle": "2022-03-12T20:15:02.672458Z",
     "shell.execute_reply": "2022-03-12T20:15:02.673040Z",
     "shell.execute_reply.started": "2022-03-12T18:41:34.317870Z"
    },
    "papermill": {
     "duration": 0.060352,
     "end_time": "2022-03-12T20:15:02.673225",
     "exception": false,
     "start_time": "2022-03-12T20:15:02.612873",
     "status": "completed"
    },
    "tags": []
   },
   "outputs": [
    {
     "data": {
      "text/html": [
       "<div>\n",
       "<style scoped>\n",
       "    .dataframe tbody tr th:only-of-type {\n",
       "        vertical-align: middle;\n",
       "    }\n",
       "\n",
       "    .dataframe tbody tr th {\n",
       "        vertical-align: top;\n",
       "    }\n",
       "\n",
       "    .dataframe thead th {\n",
       "        text-align: right;\n",
       "    }\n",
       "</style>\n",
       "<table border=\"1\" class=\"dataframe\">\n",
       "  <thead>\n",
       "    <tr style=\"text-align: right;\">\n",
       "      <th></th>\n",
       "      <th>buying</th>\n",
       "      <th>maint</th>\n",
       "      <th>doors</th>\n",
       "      <th>persons</th>\n",
       "      <th>lug_boot</th>\n",
       "      <th>safety</th>\n",
       "      <th>rating</th>\n",
       "    </tr>\n",
       "  </thead>\n",
       "  <tbody>\n",
       "    <tr>\n",
       "      <th>0</th>\n",
       "      <td>0</td>\n",
       "      <td>0</td>\n",
       "      <td>0</td>\n",
       "      <td>0</td>\n",
       "      <td>0</td>\n",
       "      <td>0</td>\n",
       "      <td>0</td>\n",
       "    </tr>\n",
       "    <tr>\n",
       "      <th>1</th>\n",
       "      <td>0</td>\n",
       "      <td>0</td>\n",
       "      <td>0</td>\n",
       "      <td>0</td>\n",
       "      <td>0</td>\n",
       "      <td>1</td>\n",
       "      <td>0</td>\n",
       "    </tr>\n",
       "    <tr>\n",
       "      <th>2</th>\n",
       "      <td>0</td>\n",
       "      <td>0</td>\n",
       "      <td>0</td>\n",
       "      <td>0</td>\n",
       "      <td>0</td>\n",
       "      <td>2</td>\n",
       "      <td>0</td>\n",
       "    </tr>\n",
       "    <tr>\n",
       "      <th>3</th>\n",
       "      <td>0</td>\n",
       "      <td>0</td>\n",
       "      <td>0</td>\n",
       "      <td>0</td>\n",
       "      <td>1</td>\n",
       "      <td>0</td>\n",
       "      <td>0</td>\n",
       "    </tr>\n",
       "    <tr>\n",
       "      <th>4</th>\n",
       "      <td>0</td>\n",
       "      <td>0</td>\n",
       "      <td>0</td>\n",
       "      <td>0</td>\n",
       "      <td>1</td>\n",
       "      <td>1</td>\n",
       "      <td>0</td>\n",
       "    </tr>\n",
       "  </tbody>\n",
       "</table>\n",
       "</div>"
      ],
      "text/plain": [
       "   buying  maint  doors  persons  lug_boot  safety  rating\n",
       "0       0      0      0        0         0       0       0\n",
       "1       0      0      0        0         0       1       0\n",
       "2       0      0      0        0         0       2       0\n",
       "3       0      0      0        0         1       0       0\n",
       "4       0      0      0        0         1       1       0"
      ]
     },
     "execution_count": 13,
     "metadata": {},
     "output_type": "execute_result"
    }
   ],
   "source": [
    "df['buying'] = df['buying'].map(buying_mapping)\n",
    "df['maint'] = df['maint'].map(maint_mapping)\n",
    "df['doors'] = df['doors'].map(doors_mapping)\n",
    "df['persons'] = df['persons'].map(persons_mapping)\n",
    "df['lug_boot'] = df['lug_boot'].map(lug_boot_mapping)\n",
    "df['safety'] = df['safety'].map(safety_mapping)\n",
    "df['rating'] = df['rating'].map(rating_mapping)\n",
    "\n",
    "df.head()"
   ]
  },
  {
   "cell_type": "code",
   "execution_count": 14,
   "id": "bb277240",
   "metadata": {
    "execution": {
     "iopub.execute_input": "2022-03-12T20:15:02.748219Z",
     "iopub.status.busy": "2022-03-12T20:15:02.747438Z",
     "iopub.status.idle": "2022-03-12T20:15:02.761554Z",
     "shell.execute_reply": "2022-03-12T20:15:02.760909Z",
     "shell.execute_reply.started": "2022-03-12T18:41:34.344296Z"
    },
    "papermill": {
     "duration": 0.051668,
     "end_time": "2022-03-12T20:15:02.761702",
     "exception": false,
     "start_time": "2022-03-12T20:15:02.710034",
     "status": "completed"
    },
    "tags": []
   },
   "outputs": [
    {
     "name": "stdout",
     "output_type": "stream",
     "text": [
      "X Train :  (1296, 6)\n",
      "X Test  :  (432, 6)\n",
      "Y Train :  (1296,)\n",
      "Y Test  :  (432,)\n"
     ]
    }
   ],
   "source": [
    "#Defined X value and y value , and split the data train\n",
    "\n",
    "X = df.drop(columns=\"rating\")           \n",
    "y = df[\"rating\"]    # y = quality\n",
    "# split the data train and test\n",
    "X_train, X_test, y_train, y_test = train_test_split(X, y, test_size=0.25, random_state=42)\n",
    "\n",
    "print(\"X Train : \", X_train.shape)\n",
    "print(\"X Test  : \", X_test.shape)\n",
    "print(\"Y Train : \", y_train.shape)\n",
    "print(\"Y Test  : \", y_test.shape)"
   ]
  },
  {
   "cell_type": "code",
   "execution_count": 15,
   "id": "f38c4476",
   "metadata": {
    "execution": {
     "iopub.execute_input": "2022-03-12T20:15:02.836475Z",
     "iopub.status.busy": "2022-03-12T20:15:02.833886Z",
     "iopub.status.idle": "2022-03-12T20:15:04.434591Z",
     "shell.execute_reply": "2022-03-12T20:15:04.435635Z",
     "shell.execute_reply.started": "2022-03-12T20:09:20.824800Z"
    },
    "papermill": {
     "duration": 1.640404,
     "end_time": "2022-03-12T20:15:04.435823",
     "exception": false,
     "start_time": "2022-03-12T20:15:02.795419",
     "status": "completed"
    },
    "tags": []
   },
   "outputs": [
    {
     "name": "stderr",
     "output_type": "stream",
     "text": [
      "2022-03-12 20:15:04.391963: I tensorflow/core/common_runtime/process_util.cc:146] Creating new thread pool with default inter op setting: 2. Tune using inter_op_parallelism_threads for best performance.\n"
     ]
    },
    {
     "data": {
      "text/plain": [
       "<tensorflow_estimator.python.estimator.canned.dnn.DNNClassifierV2 at 0x7f5111086990>"
      ]
     },
     "execution_count": 15,
     "metadata": {},
     "output_type": "execute_result"
    }
   ],
   "source": [
    "# Specify that all features have real-value data\n",
    "feature_columns = [tf.feature_column.embedding_column(\"\", dimension=6)]\n",
    "\n",
    "# Build 3 layer DNN with 512, 256, 128 units respectively.\n",
    "classifier = tf.estimator.DNNClassifier(feature_columns=feature_columns,\n",
    "                                            hidden_units=[512, 256, 128],\n",
    "                                            n_classes=4,\n",
    "                                            )\n",
    "classifier"
   ]
  },
  {
   "cell_type": "code",
   "execution_count": 16,
   "id": "30b2d163",
   "metadata": {
    "execution": {
     "iopub.execute_input": "2022-03-12T20:15:04.511955Z",
     "iopub.status.busy": "2022-03-12T20:15:04.511244Z",
     "iopub.status.idle": "2022-03-12T20:15:04.513004Z",
     "shell.execute_reply": "2022-03-12T20:15:04.513477Z",
     "shell.execute_reply.started": "2022-03-12T20:09:31.023462Z"
    },
    "papermill": {
     "duration": 0.04307,
     "end_time": "2022-03-12T20:15:04.513657",
     "exception": false,
     "start_time": "2022-03-12T20:15:04.470587",
     "status": "completed"
    },
    "tags": []
   },
   "outputs": [],
   "source": [
    "# Define the training inputs\n",
    "def get_train_inputs():\n",
    "    x = tf.constant(X_train)\n",
    "    y = tf.constant(y_train)\n",
    "    return x, y\n",
    "\n",
    "# Define the test inputs\n",
    "def get_test_inputs():\n",
    "    x = tf.constant(X_test)\n",
    "    y = tf.constant(y_test)\n",
    "\n",
    "    return x, y"
   ]
  },
  {
   "cell_type": "code",
   "execution_count": 17,
   "id": "2acbb9f5",
   "metadata": {
    "execution": {
     "iopub.execute_input": "2022-03-12T20:15:04.588534Z",
     "iopub.status.busy": "2022-03-12T20:15:04.586644Z",
     "iopub.status.idle": "2022-03-12T20:15:04.977281Z",
     "shell.execute_reply": "2022-03-12T20:15:04.975899Z",
     "shell.execute_reply.started": "2022-03-12T20:10:06.771180Z"
    },
    "papermill": {
     "duration": 0.429247,
     "end_time": "2022-03-12T20:15:04.977642",
     "exception": true,
     "start_time": "2022-03-12T20:15:04.548395",
     "status": "failed"
    },
    "tags": []
   },
   "outputs": [
    {
     "ename": "AttributeError",
     "evalue": "'DNNClassifierV2' object has no attribute 'fit'",
     "output_type": "error",
     "traceback": [
      "\u001b[0;31m---------------------------------------------------------------------------\u001b[0m",
      "\u001b[0;31mAttributeError\u001b[0m                            Traceback (most recent call last)",
      "\u001b[0;32m/tmp/ipykernel_20/924863216.py\u001b[0m in \u001b[0;36m<module>\u001b[0;34m\u001b[0m\n\u001b[1;32m      1\u001b[0m \u001b[0;31m# Fit model.\u001b[0m\u001b[0;34m\u001b[0m\u001b[0;34m\u001b[0m\u001b[0;34m\u001b[0m\u001b[0m\n\u001b[0;32m----> 2\u001b[0;31m \u001b[0mclassifier\u001b[0m\u001b[0;34m.\u001b[0m\u001b[0mfit\u001b[0m\u001b[0;34m(\u001b[0m\u001b[0minput_fn\u001b[0m\u001b[0;34m=\u001b[0m\u001b[0mget_train_inputs\u001b[0m\u001b[0;34m,\u001b[0m \u001b[0msteps\u001b[0m\u001b[0;34m=\u001b[0m\u001b[0;36m1200\u001b[0m\u001b[0;34m)\u001b[0m\u001b[0;34m\u001b[0m\u001b[0;34m\u001b[0m\u001b[0m\n\u001b[0m",
      "\u001b[0;31mAttributeError\u001b[0m: 'DNNClassifierV2' object has no attribute 'fit'"
     ]
    }
   ],
   "source": [
    "# Fit model.\n",
    "classifier.fit(input_fn=get_train_inputs, steps=1200)"
   ]
  },
  {
   "cell_type": "code",
   "execution_count": null,
   "id": "800829f6",
   "metadata": {
    "execution": {
     "iopub.execute_input": "2022-03-12T20:10:46.934697Z",
     "iopub.status.busy": "2022-03-12T20:10:46.934422Z",
     "iopub.status.idle": "2022-03-12T20:10:46.977034Z",
     "shell.execute_reply": "2022-03-12T20:10:46.976077Z",
     "shell.execute_reply.started": "2022-03-12T20:10:46.934670Z"
    },
    "papermill": {
     "duration": null,
     "end_time": null,
     "exception": null,
     "start_time": null,
     "status": "pending"
    },
    "tags": []
   },
   "outputs": [],
   "source": [
    "# Evaluate accuracy.\n",
    "print(classifier.evaluate(input_fn=get_test_inputs, steps=1))\n",
    "\n",
    "accuracy_score = classifier.evaluate(input_fn=get_test_inputs, steps=1)[\"accuracy\"]\n",
    "print(\"Test Accuracy: {0:f}\".format(accuracy_score))  "
   ]
  }
 ],
 "metadata": {
  "kernelspec": {
   "display_name": "Python 3",
   "language": "python",
   "name": "python3"
  },
  "language_info": {
   "codemirror_mode": {
    "name": "ipython",
    "version": 3
   },
   "file_extension": ".py",
   "mimetype": "text/x-python",
   "name": "python",
   "nbconvert_exporter": "python",
   "pygments_lexer": "ipython3",
   "version": "3.7.12"
  },
  "papermill": {
   "default_parameters": {},
   "duration": 24.787046,
   "end_time": "2022-03-12T20:15:07.888737",
   "environment_variables": {},
   "exception": true,
   "input_path": "__notebook__.ipynb",
   "output_path": "__notebook__.ipynb",
   "parameters": {},
   "start_time": "2022-03-12T20:14:43.101691",
   "version": "2.3.3"
  }
 },
 "nbformat": 4,
 "nbformat_minor": 5
}
